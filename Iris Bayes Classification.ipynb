{
 "cells": [
  {
   "cell_type": "markdown",
   "id": "da531f4a",
   "metadata": {},
   "source": [
    "# Gaussian Bayes Classification on Iris Dataset\n",
    "The following notebook tests the bayes classifier and naive bayes classifier on the iris dataset, commonly used for classification problems."
   ]
  },
  {
   "cell_type": "markdown",
   "id": "34f86bda",
   "metadata": {},
   "source": [
    "<img src=\"https://cdn.shopify.com/s/files/1/0065/4999/5573/files/bahen_organic_milk_3_1024x1024.jpg?v=1666934011\" alt=\"Bahen organic milk chocolate\" width=\"500\">\n"
   ]
  },
  {
   "cell_type": "code",
   "execution_count": 95,
   "id": "0f1ccb1a",
   "metadata": {},
   "outputs": [],
   "source": [
    "# Import libraries\n",
    "from sklearn.datasets import load_iris\n",
    "import random\n",
    "import pandas as pd\n",
    "import math\n",
    "import numpy as np\n",
    "import seaborn as sns\n",
    "from scipy.stats import norm\n",
    "import matplotlib.pyplot as plt"
   ]
  },
  {
   "cell_type": "code",
   "execution_count": 9,
   "id": "97068600",
   "metadata": {},
   "outputs": [],
   "source": [
    "# Import data and create classification target\n",
    "iris = load_iris()\n",
    "df = pd.DataFrame(iris.data, columns=iris.feature_names)\n",
    "df['species'] = iris.target_names[iris.target]"
   ]
  },
  {
   "cell_type": "code",
   "execution_count": 36,
   "id": "e3ede6b7",
   "metadata": {},
   "outputs": [
    {
     "data": {
      "text/html": [
       "<div>\n",
       "<style scoped>\n",
       "    .dataframe tbody tr th:only-of-type {\n",
       "        vertical-align: middle;\n",
       "    }\n",
       "\n",
       "    .dataframe tbody tr th {\n",
       "        vertical-align: top;\n",
       "    }\n",
       "\n",
       "    .dataframe thead th {\n",
       "        text-align: right;\n",
       "    }\n",
       "</style>\n",
       "<table border=\"1\" class=\"dataframe\">\n",
       "  <thead>\n",
       "    <tr style=\"text-align: right;\">\n",
       "      <th></th>\n",
       "      <th>sepal length (cm)</th>\n",
       "      <th>sepal width (cm)</th>\n",
       "      <th>petal length (cm)</th>\n",
       "      <th>petal width (cm)</th>\n",
       "      <th>species</th>\n",
       "    </tr>\n",
       "  </thead>\n",
       "  <tbody>\n",
       "    <tr>\n",
       "      <th>0</th>\n",
       "      <td>5.1</td>\n",
       "      <td>3.5</td>\n",
       "      <td>1.4</td>\n",
       "      <td>0.2</td>\n",
       "      <td>setosa</td>\n",
       "    </tr>\n",
       "    <tr>\n",
       "      <th>1</th>\n",
       "      <td>4.9</td>\n",
       "      <td>3.0</td>\n",
       "      <td>1.4</td>\n",
       "      <td>0.2</td>\n",
       "      <td>setosa</td>\n",
       "    </tr>\n",
       "    <tr>\n",
       "      <th>2</th>\n",
       "      <td>4.7</td>\n",
       "      <td>3.2</td>\n",
       "      <td>1.3</td>\n",
       "      <td>0.2</td>\n",
       "      <td>setosa</td>\n",
       "    </tr>\n",
       "    <tr>\n",
       "      <th>3</th>\n",
       "      <td>4.6</td>\n",
       "      <td>3.1</td>\n",
       "      <td>1.5</td>\n",
       "      <td>0.2</td>\n",
       "      <td>setosa</td>\n",
       "    </tr>\n",
       "    <tr>\n",
       "      <th>4</th>\n",
       "      <td>5.0</td>\n",
       "      <td>3.6</td>\n",
       "      <td>1.4</td>\n",
       "      <td>0.2</td>\n",
       "      <td>setosa</td>\n",
       "    </tr>\n",
       "    <tr>\n",
       "      <th>5</th>\n",
       "      <td>5.4</td>\n",
       "      <td>3.9</td>\n",
       "      <td>1.7</td>\n",
       "      <td>0.4</td>\n",
       "      <td>setosa</td>\n",
       "    </tr>\n",
       "    <tr>\n",
       "      <th>6</th>\n",
       "      <td>4.6</td>\n",
       "      <td>3.4</td>\n",
       "      <td>1.4</td>\n",
       "      <td>0.3</td>\n",
       "      <td>setosa</td>\n",
       "    </tr>\n",
       "    <tr>\n",
       "      <th>7</th>\n",
       "      <td>5.0</td>\n",
       "      <td>3.4</td>\n",
       "      <td>1.5</td>\n",
       "      <td>0.2</td>\n",
       "      <td>setosa</td>\n",
       "    </tr>\n",
       "    <tr>\n",
       "      <th>8</th>\n",
       "      <td>4.4</td>\n",
       "      <td>2.9</td>\n",
       "      <td>1.4</td>\n",
       "      <td>0.2</td>\n",
       "      <td>setosa</td>\n",
       "    </tr>\n",
       "    <tr>\n",
       "      <th>9</th>\n",
       "      <td>4.9</td>\n",
       "      <td>3.1</td>\n",
       "      <td>1.5</td>\n",
       "      <td>0.1</td>\n",
       "      <td>setosa</td>\n",
       "    </tr>\n",
       "  </tbody>\n",
       "</table>\n",
       "</div>"
      ],
      "text/plain": [
       "   sepal length (cm)  sepal width (cm)  petal length (cm)  petal width (cm)  \\\n",
       "0                5.1               3.5                1.4               0.2   \n",
       "1                4.9               3.0                1.4               0.2   \n",
       "2                4.7               3.2                1.3               0.2   \n",
       "3                4.6               3.1                1.5               0.2   \n",
       "4                5.0               3.6                1.4               0.2   \n",
       "5                5.4               3.9                1.7               0.4   \n",
       "6                4.6               3.4                1.4               0.3   \n",
       "7                5.0               3.4                1.5               0.2   \n",
       "8                4.4               2.9                1.4               0.2   \n",
       "9                4.9               3.1                1.5               0.1   \n",
       "\n",
       "  species  \n",
       "0  setosa  \n",
       "1  setosa  \n",
       "2  setosa  \n",
       "3  setosa  \n",
       "4  setosa  \n",
       "5  setosa  \n",
       "6  setosa  \n",
       "7  setosa  \n",
       "8  setosa  \n",
       "9  setosa  "
      ]
     },
     "execution_count": 36,
     "metadata": {},
     "output_type": "execute_result"
    }
   ],
   "source": [
    "df.head(10)"
   ]
  },
  {
   "cell_type": "markdown",
   "id": "840e3cbf",
   "metadata": {},
   "source": [
    "## Checking Gaussian Distribution of each of the features"
   ]
  },
  {
   "cell_type": "code",
   "execution_count": 110,
   "id": "9bcd5da8",
   "metadata": {},
   "outputs": [
    {
     "name": "stderr",
     "output_type": "stream",
     "text": [
      "/Users/allielynn/anaconda3/lib/python3.11/site-packages/seaborn/_oldcore.py:1119: FutureWarning: use_inf_as_na option is deprecated and will be removed in a future version. Convert inf values to NaN before operating instead.\n",
      "  with pd.option_context('mode.use_inf_as_na', True):\n"
     ]
    },
    {
     "data": {
      "image/png": "[encoded data removed]",
      "text/plain": [
       "<Figure size 600x400 with 1 Axes>"
      ]
     },
     "metadata": {},
     "output_type": "display_data"
    }
   ],
   "source": [
    "fig, ax = plt.subplots(figsize=(6,4))\n",
    "sns.histplot(df.iloc[:, 0], ax=ax)\n",
    "ax.set_title(\"Distribution of Sepal Length\")\n",
    "ax.set_xlabel(\"Sepal length (cm)\")\n",
    "ax.set_ylabel(\"Count\")\n",
    "fig.subplots_adjust(bottom=0.18)\n",
    "fig.text(0.5, 0.05, \"Roughly Normal Distribution\",\n",
    "         ha=\"center\", va=\"center\", fontsize=9)\n",
    "plt.show()"
   ]
  },
  {
   "cell_type": "code",
   "execution_count": 113,
   "id": "787a40ed",
   "metadata": {},
   "outputs": [
    {
     "name": "stderr",
     "output_type": "stream",
     "text": [
      "/Users/allielynn/anaconda3/lib/python3.11/site-packages/seaborn/_oldcore.py:1119: FutureWarning: use_inf_as_na option is deprecated and will be removed in a future version. Convert inf values to NaN before operating instead.\n",
      "  with pd.option_context('mode.use_inf_as_na', True):\n"
     ]
    },
    {
     "data": {
      "image/png": "[encoded data removed]",
      "text/plain": [
       "<Figure size 600x400 with 1 Axes>"
      ]
     },
     "metadata": {},
     "output_type": "display_data"
    }
   ],
   "source": [
    "fig, ax = plt.subplots(figsize=(6,4))\n",
    "sns.histplot(df.iloc[:, 1], ax=ax)\n",
    "ax.set_title(\"Distribution of Sepal Width\")\n",
    "ax.set_xlabel(\"Sepal Width (cm)\")\n",
    "ax.set_ylabel(\"Count\")\n",
    "fig.subplots_adjust(bottom=0.18)\n",
    "fig.text(0.5, 0.05, \"Roughly Normal Distribution\",\n",
    "         ha=\"center\", va=\"center\", fontsize=9)\n",
    "plt.show()"
   ]
  },
  {
   "cell_type": "code",
   "execution_count": 117,
   "id": "65fc72fc",
   "metadata": {},
   "outputs": [
    {
     "name": "stderr",
     "output_type": "stream",
     "text": [
      "/Users/allielynn/anaconda3/lib/python3.11/site-packages/seaborn/_oldcore.py:1119: FutureWarning: use_inf_as_na option is deprecated and will be removed in a future version. Convert inf values to NaN before operating instead.\n",
      "  with pd.option_context('mode.use_inf_as_na', True):\n"
     ]
    },
    {
     "data": {
      "image/png": "[encoded data removed]",
      "text/plain": [
       "<Figure size 600x400 with 1 Axes>"
      ]
     },
     "metadata": {},
     "output_type": "display_data"
    }
   ],
   "source": [
    "fig, ax = plt.subplots(figsize=(6,4))\n",
    "sns.histplot(df.iloc[:, 2], ax=ax)\n",
    "ax.set_title(\"Distribution of Petal Length\")\n",
    "ax.set_xlabel(\"Petal Length (cm)\")\n",
    "ax.set_ylabel(\"Count\")\n",
    "fig.subplots_adjust(bottom=0.18)\n",
    "fig.text(0.5, 0.05, \"Less Normally Distributed\",\n",
    "         ha=\"center\", va=\"center\", fontsize=9)\n",
    "plt.show()"
   ]
  },
  {
   "cell_type": "code",
   "execution_count": 119,
   "id": "8d4ebff3",
   "metadata": {},
   "outputs": [
    {
     "name": "stderr",
     "output_type": "stream",
     "text": [
      "/Users/allielynn/anaconda3/lib/python3.11/site-packages/seaborn/_oldcore.py:1119: FutureWarning: use_inf_as_na option is deprecated and will be removed in a future version. Convert inf values to NaN before operating instead.\n",
      "  with pd.option_context('mode.use_inf_as_na', True):\n"
     ]
    },
    {
     "data": {
      "image/png": "[encoded data removed]",
      "text/plain": [
       "<Figure size 600x400 with 1 Axes>"
      ]
     },
     "metadata": {},
     "output_type": "display_data"
    }
   ],
   "source": [
    "fig, ax = plt.subplots(figsize=(6,4))\n",
    "sns.histplot(df.iloc[:, 3], ax=ax)\n",
    "ax.set_title(\"Distribution of Petal Width\")\n",
    "ax.set_xlabel(\"Petal Width (cm)\")\n",
    "ax.set_ylabel(\"Count\")\n",
    "fig.subplots_adjust(bottom=0.18)\n",
    "fig.text(0.5, 0.05, \"Less Normally Distribution\",\n",
    "         ha=\"center\", va=\"center\", fontsize=9)\n",
    "plt.show()"
   ]
  },
  {
   "cell_type": "markdown",
   "id": "c97af397",
   "metadata": {},
   "source": [
    "Despite stronger outliers in petal width and petal length, we will go forward with Gaussian Naive Bayes as it fits the first 2 features quite well and fits the petal width and length apart from the outlier. Future implementations of this could potentially remove the outliers in the petal features to fit the Gaussian assumption better and potentially increase accuracy."
   ]
  },
  {
   "cell_type": "markdown",
   "id": "1ab607ac",
   "metadata": {},
   "source": [
    "# Naive Bayes Classifier\n",
    "$P(y | X) = \\frac{P(X | y) \\cdot P(y)}{P(X)}$ assuming $P(x_1, x_2, ..., x_N |y) = \\prod P(x_i |y )$"
   ]
  },
  {
   "cell_type": "code",
   "execution_count": 67,
   "id": "e057432f",
   "metadata": {},
   "outputs": [],
   "source": [
    "# manual function\n",
    "def naive_bayes_iris(testx, trainx, trainy):\n",
    "    \n",
    "    # get indices\n",
    "    indices_setosa = np.where(trainy == \"setosa\")[0]\n",
    "    trainx_setosa = trainx.iloc[indices_setosa]\n",
    "    indices_versicolor = np.where(trainy == \"versicolor\")[0]\n",
    "    trainx_versicolor = trainx.iloc[indices_versicolor]\n",
    "    indices_virginica = np.where(trainy == \"virginica\")[0]\n",
    "    trainx_virginica = trainx.iloc[indices_virginica]\n",
    "    \n",
    "    # Distribution of Classes\n",
    "    \n",
    "    # Setosa\n",
    "    # mean\n",
    "    x1bar_setosa = np.mean(trainx_setosa.iloc[:, 0])\n",
    "    x2bar_setosa = np.mean(trainx_setosa.iloc[:, 1])\n",
    "    x3bar_setosa = np.mean(trainx_setosa.iloc[:, 2])\n",
    "    x4bar_setosa = np.mean(trainx_setosa.iloc[:, 3])\n",
    "    # sd\n",
    "    sd1_setosa = np.std(trainx_setosa.iloc[:, 0])\n",
    "    sd2_setosa = np.std(trainx_setosa.iloc[:, 1])\n",
    "    sd3_setosa = np.std(trainx_setosa.iloc[:, 2])\n",
    "    sd4_setosa = np.std(trainx_setosa.iloc[:, 3])\n",
    "    \n",
    "    # Versicolor\n",
    "    # mean\n",
    "    x1bar_versicolor = np.mean(trainx_versicolor.iloc[:, 0])\n",
    "    x2bar_versicolor = np.mean(trainx_versicolor.iloc[:, 1])\n",
    "    x3bar_versicolor = np.mean(trainx_versicolor.iloc[:, 2])\n",
    "    x4bar_versicolor = np.mean(trainx_versicolor.iloc[:, 3])\n",
    "    # sd\n",
    "    sd1_versicolor = np.std(trainx_versicolor.iloc[:, 0])\n",
    "    sd2_versicolor = np.std(trainx_versicolor.iloc[:, 1])\n",
    "    sd3_versicolor = np.std(trainx_versicolor.iloc[:, 2])\n",
    "    sd4_versicolor = np.std(trainx_versicolor.iloc[:, 3])\n",
    "    \n",
    "    # Virginica\n",
    "    # mean\n",
    "    x1bar_virginica = np.mean(trainx_virginica.iloc[:, 0])\n",
    "    x2bar_virginica = np.mean(trainx_virginica.iloc[:, 1])\n",
    "    x3bar_virginica = np.mean(trainx_virginica.iloc[:, 2])\n",
    "    x4bar_virginica = np.mean(trainx_virginica.iloc[:, 3])\n",
    "    # sd\n",
    "    sd1_virginica = np.std(trainx_virginica.iloc[:, 0])\n",
    "    sd2_virginica = np.std(trainx_virginica.iloc[:, 1])\n",
    "    sd3_virginica = np.std(trainx_virginica.iloc[:, 2])\n",
    "    sd4_virginica = np.std(trainx_virginica.iloc[:, 3])\n",
    "    \n",
    "    \n",
    "    # Likelihoods\n",
    "    # class setosa\n",
    "    like_setosa = norm.pdf(testx.iloc[:, 0], loc = x1bar_setosa, scale = sd1_setosa) * norm.pdf(testx.iloc[:, 1], loc = x2bar_setosa, scale = sd2_setosa) * norm.pdf(testx.iloc[:, 2], loc = x3bar_setosa, scale = sd3_setosa) * norm.pdf(testx.iloc[:, 3], loc = x4bar_setosa, scale = sd4_setosa) \n",
    "    # class versicolor\n",
    "    like_versicolor = norm.pdf(testx.iloc[:, 0], loc = x1bar_versicolor, scale = sd1_versicolor) * norm.pdf(testx.iloc[:, 1], loc = x2bar_versicolor, scale = sd2_versicolor) * norm.pdf(testx.iloc[:, 2], loc = x3bar_versicolor, scale = sd3_versicolor) * norm.pdf(testx.iloc[:, 3], loc = x4bar_versicolor, scale = sd4_versicolor) \n",
    "    # class virginica\n",
    "    like_virginica = norm.pdf(testx.iloc[:, 0], loc = x1bar_virginica, scale = sd1_virginica) * norm.pdf(testx.iloc[:, 1], loc = x2bar_virginica, scale = sd2_virginica) * norm.pdf(testx.iloc[:, 2], loc = x3bar_virginica, scale = sd3_virginica) * norm.pdf(testx.iloc[:, 3], loc = x4bar_virginica, scale = sd4_virginica) \n",
    "    \n",
    "    \n",
    "    # Priors\n",
    "    trainy_setosa = len(np.where(trainy == \"setosa\")[0])\n",
    "    trainy_versicolor = len(np.where(trainy == \"versicolor\")[0])\n",
    "    trainy_virginica = len(np.where(trainy == \"virginica\")[0])\n",
    "    \n",
    "    total = trainy_setosa + trainy_versicolor + trainy_virginica\n",
    "    \n",
    "    prior_setosa = trainy_setosa / total\n",
    "    prior_versicolor = trainy_versicolor / total\n",
    "    prior_virginica = trainy_virginica / total\n",
    "    \n",
    "    # Marginal\n",
    "    marginal = like_setosa * prior_setosa + like_virginica * prior_virginica + like_versicolor * prior_versicolor\n",
    "    \n",
    "    # Probabilities\n",
    "    prob_setosa = like_setosa * prior_setosa / marginal\n",
    "    prob_versicolor = like_versicolor * prior_versicolor / marginal\n",
    "    prob_virginica = like_virginica * prior_virginica / marginal\n",
    "    probs_df = pd.DataFrame({\n",
    "    \"setosa\": prob_setosa,\n",
    "    \"versicolor\": prob_versicolor,\n",
    "    \"virginica\": prob_virginica\n",
    "    })\n",
    "    \n",
    "    return(probs_df)\n",
    "    "
   ]
  },
  {
   "cell_type": "code",
   "execution_count": 75,
   "id": "67e44bec",
   "metadata": {},
   "outputs": [
    {
     "data": {
      "text/html": [
       "<div>\n",
       "<style scoped>\n",
       "    .dataframe tbody tr th:only-of-type {\n",
       "        vertical-align: middle;\n",
       "    }\n",
       "\n",
       "    .dataframe tbody tr th {\n",
       "        vertical-align: top;\n",
       "    }\n",
       "\n",
       "    .dataframe thead th {\n",
       "        text-align: right;\n",
       "    }\n",
       "</style>\n",
       "<table border=\"1\" class=\"dataframe\">\n",
       "  <thead>\n",
       "    <tr style=\"text-align: right;\">\n",
       "      <th></th>\n",
       "      <th>setosa</th>\n",
       "      <th>versicolor</th>\n",
       "      <th>virginica</th>\n",
       "    </tr>\n",
       "  </thead>\n",
       "  <tbody>\n",
       "    <tr>\n",
       "      <th>0</th>\n",
       "      <td>1.0</td>\n",
       "      <td>2.244108e-20</td>\n",
       "      <td>1.998062e-29</td>\n",
       "    </tr>\n",
       "  </tbody>\n",
       "</table>\n",
       "</div>"
      ],
      "text/plain": [
       "   setosa    versicolor     virginica\n",
       "0     1.0  2.244108e-20  1.998062e-29"
      ]
     },
     "execution_count": 75,
     "metadata": {},
     "output_type": "execute_result"
    }
   ],
   "source": [
    "# Testing\n",
    "random.seed(1)\n",
    "# create training rows: sample 40 from each class without replacement\n",
    "train_idx = np.sort(\n",
    "    np.concatenate([\n",
    "        np.random.choice(range(0, 50), 40, replace=False),      # setosa\n",
    "        np.random.choice(range(50, 100), 40, replace=False),    # versicolor\n",
    "        np.random.choice(range(100, 150), 40, replace=False)    # virginica\n",
    "    ])\n",
    ")\n",
    "\n",
    "# training data\n",
    "training_x = df.iloc[train_idx, 0:4]\n",
    "training_y = df.iloc[train_idx, 4]\n",
    "\n",
    "# test cases\n",
    "test_setosa = df.iloc[[4], 0:4]  # true class: setosa\n",
    "test_versicolor = df.iloc[[80], 0:4] # true class: versicolor\n",
    "test_virginica = df.iloc[[115], 0:4]# true class: virginica"
   ]
  },
  {
   "cell_type": "markdown",
   "id": "7aa2a0a7",
   "metadata": {},
   "source": [
    "### Setosa Class Test"
   ]
  },
  {
   "cell_type": "code",
   "execution_count": 76,
   "id": "d7d6e170",
   "metadata": {},
   "outputs": [
    {
     "data": {
      "text/html": [
       "<div>\n",
       "<style scoped>\n",
       "    .dataframe tbody tr th:only-of-type {\n",
       "        vertical-align: middle;\n",
       "    }\n",
       "\n",
       "    .dataframe tbody tr th {\n",
       "        vertical-align: top;\n",
       "    }\n",
       "\n",
       "    .dataframe thead th {\n",
       "        text-align: right;\n",
       "    }\n",
       "</style>\n",
       "<table border=\"1\" class=\"dataframe\">\n",
       "  <thead>\n",
       "    <tr style=\"text-align: right;\">\n",
       "      <th></th>\n",
       "      <th>setosa</th>\n",
       "      <th>versicolor</th>\n",
       "      <th>virginica</th>\n",
       "    </tr>\n",
       "  </thead>\n",
       "  <tbody>\n",
       "    <tr>\n",
       "      <th>0</th>\n",
       "      <td>1.0</td>\n",
       "      <td>2.244108e-20</td>\n",
       "      <td>1.998062e-29</td>\n",
       "    </tr>\n",
       "  </tbody>\n",
       "</table>\n",
       "</div>"
      ],
      "text/plain": [
       "   setosa    versicolor     virginica\n",
       "0     1.0  2.244108e-20  1.998062e-29"
      ]
     },
     "execution_count": 76,
     "metadata": {},
     "output_type": "execute_result"
    }
   ],
   "source": [
    "naive_bayes_iris(test_setosa, training_x, training_y)"
   ]
  },
  {
   "cell_type": "code",
   "execution_count": 77,
   "id": "ea95bb48",
   "metadata": {},
   "outputs": [
    {
     "data": {
      "text/html": [
       "<div>\n",
       "<style scoped>\n",
       "    .dataframe tbody tr th:only-of-type {\n",
       "        vertical-align: middle;\n",
       "    }\n",
       "\n",
       "    .dataframe tbody tr th {\n",
       "        vertical-align: top;\n",
       "    }\n",
       "\n",
       "    .dataframe thead th {\n",
       "        text-align: right;\n",
       "    }\n",
       "</style>\n",
       "<table border=\"1\" class=\"dataframe\">\n",
       "  <thead>\n",
       "    <tr style=\"text-align: right;\">\n",
       "      <th></th>\n",
       "      <th>setosa</th>\n",
       "      <th>versicolor</th>\n",
       "      <th>virgnica</th>\n",
       "    </tr>\n",
       "  </thead>\n",
       "  <tbody>\n",
       "    <tr>\n",
       "      <th>0</th>\n",
       "      <td>1.0</td>\n",
       "      <td>2.244113e-20</td>\n",
       "      <td>1.998065e-29</td>\n",
       "    </tr>\n",
       "  </tbody>\n",
       "</table>\n",
       "</div>"
      ],
      "text/plain": [
       "   setosa    versicolor      virgnica\n",
       "0     1.0  2.244113e-20  1.998065e-29"
      ]
     },
     "execution_count": 77,
     "metadata": {},
     "output_type": "execute_result"
    }
   ],
   "source": [
    "# Checking with built-in function\n",
    "from sklearn.naive_bayes import GaussianNB\n",
    "gnb = GaussianNB()\n",
    "gnb.fit(training_x, training_y)\n",
    "pd.DataFrame(gnb.predict_proba(test_setosa), columns = ['setosa', 'versicolor', 'virgnica'])"
   ]
  },
  {
   "cell_type": "markdown",
   "id": "d11d2fb3",
   "metadata": {},
   "source": [
    "### Versicolor Class Test"
   ]
  },
  {
   "cell_type": "code",
   "execution_count": 80,
   "id": "2b6e957d",
   "metadata": {},
   "outputs": [
    {
     "data": {
      "text/html": [
       "<div>\n",
       "<style scoped>\n",
       "    .dataframe tbody tr th:only-of-type {\n",
       "        vertical-align: middle;\n",
       "    }\n",
       "\n",
       "    .dataframe tbody tr th {\n",
       "        vertical-align: top;\n",
       "    }\n",
       "\n",
       "    .dataframe thead th {\n",
       "        text-align: right;\n",
       "    }\n",
       "</style>\n",
       "<table border=\"1\" class=\"dataframe\">\n",
       "  <thead>\n",
       "    <tr style=\"text-align: right;\">\n",
       "      <th></th>\n",
       "      <th>setosa</th>\n",
       "      <th>versicolor</th>\n",
       "      <th>virginica</th>\n",
       "    </tr>\n",
       "  </thead>\n",
       "  <tbody>\n",
       "    <tr>\n",
       "      <th>0</th>\n",
       "      <td>1.121600e-60</td>\n",
       "      <td>0.999998</td>\n",
       "      <td>0.000002</td>\n",
       "    </tr>\n",
       "  </tbody>\n",
       "</table>\n",
       "</div>"
      ],
      "text/plain": [
       "         setosa  versicolor  virginica\n",
       "0  1.121600e-60    0.999998   0.000002"
      ]
     },
     "execution_count": 80,
     "metadata": {},
     "output_type": "execute_result"
    }
   ],
   "source": [
    "naive_bayes_iris(test_versicolor, training_x, training_y)"
   ]
  },
  {
   "cell_type": "code",
   "execution_count": 81,
   "id": "5cdc7c17",
   "metadata": {},
   "outputs": [
    {
     "data": {
      "text/html": [
       "<div>\n",
       "<style scoped>\n",
       "    .dataframe tbody tr th:only-of-type {\n",
       "        vertical-align: middle;\n",
       "    }\n",
       "\n",
       "    .dataframe tbody tr th {\n",
       "        vertical-align: top;\n",
       "    }\n",
       "\n",
       "    .dataframe thead th {\n",
       "        text-align: right;\n",
       "    }\n",
       "</style>\n",
       "<table border=\"1\" class=\"dataframe\">\n",
       "  <thead>\n",
       "    <tr style=\"text-align: right;\">\n",
       "      <th></th>\n",
       "      <th>setosa</th>\n",
       "      <th>versicolor</th>\n",
       "      <th>virgnica</th>\n",
       "    </tr>\n",
       "  </thead>\n",
       "  <tbody>\n",
       "    <tr>\n",
       "      <th>0</th>\n",
       "      <td>1.121623e-60</td>\n",
       "      <td>0.999998</td>\n",
       "      <td>0.000002</td>\n",
       "    </tr>\n",
       "  </tbody>\n",
       "</table>\n",
       "</div>"
      ],
      "text/plain": [
       "         setosa  versicolor  virgnica\n",
       "0  1.121623e-60    0.999998  0.000002"
      ]
     },
     "execution_count": 81,
     "metadata": {},
     "output_type": "execute_result"
    }
   ],
   "source": [
    "pd.DataFrame(gnb.predict_proba(test_versicolor), columns = ['setosa', 'versicolor', 'virgnica'])"
   ]
  },
  {
   "cell_type": "markdown",
   "id": "1e81f46e",
   "metadata": {},
   "source": [
    "### Virginica Class Test"
   ]
  },
  {
   "cell_type": "code",
   "execution_count": 82,
   "id": "e8026d25",
   "metadata": {},
   "outputs": [
    {
     "data": {
      "text/html": [
       "<div>\n",
       "<style scoped>\n",
       "    .dataframe tbody tr th:only-of-type {\n",
       "        vertical-align: middle;\n",
       "    }\n",
       "\n",
       "    .dataframe tbody tr th {\n",
       "        vertical-align: top;\n",
       "    }\n",
       "\n",
       "    .dataframe thead th {\n",
       "        text-align: right;\n",
       "    }\n",
       "</style>\n",
       "<table border=\"1\" class=\"dataframe\">\n",
       "  <thead>\n",
       "    <tr style=\"text-align: right;\">\n",
       "      <th></th>\n",
       "      <th>setosa</th>\n",
       "      <th>versicolor</th>\n",
       "      <th>virginica</th>\n",
       "    </tr>\n",
       "  </thead>\n",
       "  <tbody>\n",
       "    <tr>\n",
       "      <th>0</th>\n",
       "      <td>1.666623e-207</td>\n",
       "      <td>6.025905e-08</td>\n",
       "      <td>1.0</td>\n",
       "    </tr>\n",
       "  </tbody>\n",
       "</table>\n",
       "</div>"
      ],
      "text/plain": [
       "          setosa    versicolor  virginica\n",
       "0  1.666623e-207  6.025905e-08        1.0"
      ]
     },
     "execution_count": 82,
     "metadata": {},
     "output_type": "execute_result"
    }
   ],
   "source": [
    "naive_bayes_iris(test_virginica, training_x, training_y)"
   ]
  },
  {
   "cell_type": "code",
   "execution_count": 83,
   "id": "34fe3d5a",
   "metadata": {},
   "outputs": [
    {
     "data": {
      "text/html": [
       "<div>\n",
       "<style scoped>\n",
       "    .dataframe tbody tr th:only-of-type {\n",
       "        vertical-align: middle;\n",
       "    }\n",
       "\n",
       "    .dataframe tbody tr th {\n",
       "        vertical-align: top;\n",
       "    }\n",
       "\n",
       "    .dataframe thead th {\n",
       "        text-align: right;\n",
       "    }\n",
       "</style>\n",
       "<table border=\"1\" class=\"dataframe\">\n",
       "  <thead>\n",
       "    <tr style=\"text-align: right;\">\n",
       "      <th></th>\n",
       "      <th>setosa</th>\n",
       "      <th>versicolor</th>\n",
       "      <th>virgnica</th>\n",
       "    </tr>\n",
       "  </thead>\n",
       "  <tbody>\n",
       "    <tr>\n",
       "      <th>0</th>\n",
       "      <td>1.666760e-207</td>\n",
       "      <td>6.025913e-08</td>\n",
       "      <td>1.0</td>\n",
       "    </tr>\n",
       "  </tbody>\n",
       "</table>\n",
       "</div>"
      ],
      "text/plain": [
       "          setosa    versicolor  virgnica\n",
       "0  1.666760e-207  6.025913e-08       1.0"
      ]
     },
     "execution_count": 83,
     "metadata": {},
     "output_type": "execute_result"
    }
   ],
   "source": [
    "pd.DataFrame(gnb.predict_proba(test_virginica), columns = ['setosa', 'versicolor', 'virgnica'])"
   ]
  },
  {
   "cell_type": "markdown",
   "id": "b2d4d669",
   "metadata": {},
   "source": [
    "## Accuracy Metric on Full Dataset"
   ]
  },
  {
   "cell_type": "code",
   "execution_count": 120,
   "id": "8e4fff71",
   "metadata": {},
   "outputs": [
    {
     "name": "stdout",
     "output_type": "stream",
     "text": [
      "Accuracy on  test set: 0.9333 (93.33%)\n",
      "pred        setosa  versicolor  virginica\n",
      "true                                     \n",
      "setosa          10           0          0\n",
      "versicolor       0           9          1\n",
      "virginica        0           1          9\n"
     ]
    }
   ],
   "source": [
    "test = df.drop(index = train_idx)\n",
    "test_x = test.iloc[:, 0:4]\n",
    "test_y = test.iloc[:,4]\n",
    "probs_df = naive_bayes_iris(test_x, training_x, training_y)\n",
    "y_pred = probs_df.idxmax(axis =1)\n",
    "accuracy = (y_pred.values == test_y.values).mean()\n",
    "print(f\"Accuracy on  test set: {accuracy:.4f} ({accuracy*100:.2f}%)\")\n",
    "\n",
    "# confusion matrix\n",
    "conf = pd.crosstab(pd.Series(test_y.values, name=\"true\"),\n",
    "                   pd.Series(y_pred.values, name=\"pred\"))\n",
    "print(conf)"
   ]
  }
 ],
 "metadata": {
  "kernelspec": {
   "display_name": "Python 3 (ipykernel)",
   "language": "python",
   "name": "python3"
  },
  "language_info": {
   "codemirror_mode": {
    "name": "ipython",
    "version": 3
   },
   "file_extension": ".py",
   "mimetype": "text/x-python",
   "name": "python",
   "nbconvert_exporter": "python",
   "pygments_lexer": "ipython3",
   "version": "3.11.5"
  }
 },
 "nbformat": 4,
 "nbformat_minor": 5
}
